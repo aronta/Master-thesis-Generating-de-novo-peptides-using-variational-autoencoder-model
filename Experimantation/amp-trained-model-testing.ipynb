{
 "cells": [
  {
   "cell_type": "code",
   "execution_count": 2,
   "id": "13e022cf",
   "metadata": {},
   "outputs": [],
   "source": [
    "from sklearn.preprocessing import MinMaxScaler\n",
    "import tensorflow as tf\n",
    "from seqprops_therapeutic import models\n",
    "from seqprops import SequentialPropertiesEncoder"
   ]
  },
  {
   "cell_type": "code",
   "execution_count": 6,
   "id": "92b3ef1a",
   "metadata": {},
   "outputs": [
    {
     "name": "stdout",
     "output_type": "stream",
     "text": [
      "True\n",
      "False\n",
      "True\n",
      "True\n"
     ]
    }
   ],
   "source": [
    "sequences = [\"LLEL\", \"FPPWM\", \"KIWRS\", \"RWRW\"]          # Sekvence za koje se radi predvidanje\n",
    "feature_set = ['Hydrophobicity_Aboderin', 'tScales_T3', 'Hydrophobicity_Fauchere', 'stScales_ST4', 'VHSE_VHSE3', 'BLOSUM_BLOSUM5', 'Hydrophobicity_Ponnuswamy', 'crucianiProperties_PP1', 'Hydrophobicity_Welling', 'Hydrophobicity_Chothia']\n",
    "encoder = SequentialPropertiesEncoder(scaler=MinMaxScaler(feature_range=(-1, 1)), stop_signal=True, max_seq_len=46, selected_properties=feature_set)\n",
    "encoded_sequences = encoder.encode(sequences)\n",
    "model = models.create_seq_model(input_shape=encoded_sequences.shape[1:], conv1_filters=64, conv2_filters=64, conv_kernel_size=4, num_cells=128, dropout=0.1)\n",
    "\n",
    "# Copy weights from pretrained model to the new model\n",
    "loaded_model = tf.keras.models.load_model(\"seqprops_therapeutic/pretrained_models/amp\")\n",
    "model.set_weights(loaded_model.get_weights())\n",
    "\n",
    "# Predvidanje i ispis predvidanja\n",
    "y_pred = model.predict(encoded_sequences, verbose=0)\n",
    "for idx in range(len(y_pred)):\n",
    "    predicted_probability = y_pred[idx][0]\n",
    "    if predicted_probability > 0.5:\n",
    "        print(True)\n",
    "    else:\n",
    "        print(False)"
   ]
  },
  {
   "cell_type": "code",
   "execution_count": null,
   "id": "1b860a2f",
   "metadata": {},
   "outputs": [],
   "source": []
  }
 ],
 "metadata": {
  "kernelspec": {
   "display_name": "Python 3",
   "language": "python",
   "name": "python3"
  },
  "language_info": {
   "codemirror_mode": {
    "name": "ipython",
    "version": 3
   },
   "file_extension": ".py",
   "mimetype": "text/x-python",
   "name": "python",
   "nbconvert_exporter": "python",
   "pygments_lexer": "ipython3",
   "version": "3.8.8"
  }
 },
 "nbformat": 4,
 "nbformat_minor": 5
}
